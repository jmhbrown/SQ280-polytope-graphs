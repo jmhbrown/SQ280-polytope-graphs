{
 "cells": [
  {
   "cell_type": "code",
   "execution_count": 1,
   "metadata": {
    "collapsed": true,
    "deletable": true,
    "editable": true
   },
   "outputs": [],
   "source": [
    "from sage.geometry.polyhedron.parent import Polyhedra"
   ]
  },
  {
   "cell_type": "code",
   "execution_count": 2,
   "metadata": {
    "collapsed": true,
    "deletable": true,
    "editable": true
   },
   "outputs": [],
   "source": [
    "square_from_vertices = Polyhedron(vertices = [[1,1,1], [1,1,-1],[1,-1,1],[1,-1,-1],[-1,1,1],[-1,1,-1],[-1,-1,1],[-1,-1,-1]])"
   ]
  },
  {
   "cell_type": "code",
   "execution_count": 3,
   "metadata": {
    "collapsed": false,
    "deletable": true,
    "editable": true
   },
   "outputs": [
    {
     "name": "stdout",
     "output_type": "stream",
     "text": [
      "(1, 0, 0)\n",
      "(0, 1, 0)\n",
      "(0, 0, 1)\n",
      "(0, 0, -1)\n",
      "(0, -1, 0)\n",
      "(-1, 0, 0)\n"
     ]
    }
   ],
   "source": [
    "for f in square_from_vertices.faces(2):\n",
    "    print f.ambient_Hrepresentation()[0]._A"
   ]
  },
  {
   "cell_type": "code",
   "execution_count": 13,
   "metadata": {
    "collapsed": false,
    "deletable": true,
    "editable": true
   },
   "outputs": [
    {
     "data": {
      "text/plain": [
       "-1"
      ]
     },
     "execution_count": 13,
     "metadata": {},
     "output_type": "execute_result"
    }
   ],
   "source": [
    "proj_vector = vector(AA, [1,1,1/2])\n",
    "proj_vector.dot_product(vector(AA,[-1,0,0]))"
   ]
  },
  {
   "cell_type": "markdown",
   "metadata": {},
   "source": [
    "# Making the visible graph."
   ]
  },
  {
   "cell_type": "code",
   "execution_count": 2,
   "metadata": {
    "collapsed": false
   },
   "outputs": [
    {
     "name": "stdout",
     "output_type": "stream",
     "text": [
      "(1, 0, 0)\n",
      "(0, 1, 0)\n",
      "(0, 0, 1)\n",
      "(0, 0, -1)\n",
      "(0, -1, 0)\n",
      "(-1, 0, 0)\n"
     ]
    }
   ],
   "source": [
    "square_from_vertices = Polyhedron(vertices = [[1,1,1], [1,1,-1],[1,-1,1],[1,-1,-1],[-1,1,1],[-1,1,-1],[-1,-1,1],[-1,-1,-1]])\n",
    "for f in square_from_vertices.faces(2):\n",
    "    print f.ambient_Hrepresentation()[0]._A"
   ]
  },
  {
   "cell_type": "code",
   "execution_count": 11,
   "metadata": {
    "collapsed": false
   },
   "outputs": [],
   "source": [
    "def visible_graph(polyhedron, projection_vector):\n",
    "    for f in polyhedron.faces(2):\n",
    "        if projection_vector.dot_product(f.ambient_Hrepresentation()[0]._A) >= 0:\n",
    "            print vars(f)\n",
    "        else:\n",
    "            print \"PASS\""
   ]
  },
  {
   "cell_type": "code",
   "execution_count": 12,
   "metadata": {
    "collapsed": false
   },
   "outputs": [
    {
     "name": "stdout",
     "output_type": "stream",
     "text": [
      "{'_ambient_Vrepresentation': (A vertex at (-1, -1, -1), A vertex at (-1, -1, 1), A vertex at (-1, 1, -1), A vertex at (-1, 1, 1)), '_polyhedron': A 3-dimensional polyhedron in ZZ^3 defined as the convex hull of 8 vertices, '_ambient_Vrepresentation_indices': (0, 1, 2, 3), '_ambient_Hrepresentation_indices': (3,), '_ambient_Hrepresentation': (An inequality (1, 0, 0) x + 1 >= 0,)}\n",
      "{'_ambient_Vrepresentation': (A vertex at (-1, -1, -1), A vertex at (-1, -1, 1), A vertex at (1, -1, -1), A vertex at (1, -1, 1)), '_polyhedron': A 3-dimensional polyhedron in ZZ^3 defined as the convex hull of 8 vertices, '_ambient_Vrepresentation_indices': (0, 1, 4, 5), '_ambient_Hrepresentation_indices': (5,), '_ambient_Hrepresentation': (An inequality (0, 1, 0) x + 1 >= 0,)}\n",
      "{'_ambient_Vrepresentation': (A vertex at (-1, -1, -1), A vertex at (-1, 1, -1), A vertex at (1, -1, -1), A vertex at (1, 1, -1)), '_polyhedron': A 3-dimensional polyhedron in ZZ^3 defined as the convex hull of 8 vertices, '_ambient_Vrepresentation_indices': (0, 2, 4, 6), '_ambient_Hrepresentation_indices': (4,), '_ambient_Hrepresentation': (An inequality (0, 0, 1) x + 1 >= 0,)}\n",
      "{'_ambient_Vrepresentation': (A vertex at (-1, -1, 1), A vertex at (-1, 1, 1), A vertex at (1, -1, 1), A vertex at (1, 1, 1)), '_polyhedron': A 3-dimensional polyhedron in ZZ^3 defined as the convex hull of 8 vertices, '_ambient_Vrepresentation_indices': (1, 3, 5, 7), '_ambient_Hrepresentation_indices': (0,), '_ambient_Hrepresentation': (An inequality (0, 0, -1) x + 1 >= 0,)}\n",
      "PASS\n",
      "{'_ambient_Vrepresentation': (A vertex at (1, -1, -1), A vertex at (1, -1, 1), A vertex at (1, 1, -1), A vertex at (1, 1, 1)), '_polyhedron': A 3-dimensional polyhedron in ZZ^3 defined as the convex hull of 8 vertices, '_ambient_Vrepresentation_indices': (4, 5, 6, 7), '_ambient_Hrepresentation_indices': (2,), '_ambient_Hrepresentation': (An inequality (-1, 0, 0) x + 1 >= 0,)}\n"
     ]
    }
   ],
   "source": [
    "visible_graph(square_from_vertices, vector([0,1,0]))"
   ]
  },
  {
   "cell_type": "code",
   "execution_count": 43,
   "metadata": {
    "collapsed": false
   },
   "outputs": [
    {
     "data": {
      "text/plain": [
       "<class 'sage.geometry.polyhedron.face.PolyhedronFace'>"
      ]
     },
     "execution_count": 43,
     "metadata": {},
     "output_type": "execute_result"
    }
   ],
   "source": [
    "f = square_from_vertices.faces(2)[0]\n",
    "f.__class__"
   ]
  },
  {
   "cell_type": "code",
   "execution_count": 48,
   "metadata": {
    "collapsed": false
   },
   "outputs": [],
   "source": [
    "#TODO - Rip open this graph method, figure out how to do multiple faces together.\n",
    "g = f.as_polyhedron().vertex_graph()"
   ]
  },
  {
   "cell_type": "code",
   "execution_count": 51,
   "metadata": {
    "collapsed": false
   },
   "outputs": [
    {
     "data": {
      "text/plain": [
       "[(A vertex at (-1, -1, -1), A vertex at (-1, -1, 1), None),\n",
       " (A vertex at (-1, -1, -1), A vertex at (-1, 1, -1), None),\n",
       " (A vertex at (-1, -1, 1), A vertex at (-1, 1, 1), None),\n",
       " (A vertex at (-1, 1, -1), A vertex at (-1, 1, 1), None)]"
      ]
     },
     "execution_count": 51,
     "metadata": {},
     "output_type": "execute_result"
    }
   ],
   "source": [
    "g.edges()"
   ]
  }
 ],
 "metadata": {
  "kernelspec": {
   "display_name": "SageMath 7.6",
   "language": "",
   "name": "sagemath"
  },
  "language_info": {
   "codemirror_mode": {
    "name": "ipython",
    "version": 2
   },
   "file_extension": ".py",
   "mimetype": "text/x-python",
   "name": "python",
   "nbconvert_exporter": "python",
   "pygments_lexer": "ipython2",
   "version": "2.7.13"
  }
 },
 "nbformat": 4,
 "nbformat_minor": 2
}
