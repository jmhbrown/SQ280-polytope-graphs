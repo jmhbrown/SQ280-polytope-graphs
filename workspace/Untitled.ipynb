{
 "cells": [
  {
   "cell_type": "markdown",
   "metadata": {
    "deletable": true,
    "editable": true
   },
   "source": [
    "# Polyhedron Testing"
   ]
  },
  {
   "cell_type": "code",
   "execution_count": 1,
   "metadata": {
    "collapsed": true,
    "deletable": true,
    "editable": true
   },
   "outputs": [],
   "source": [
    "from sage.geometry.polyhedron.parent import Polyhedra"
   ]
  },
  {
   "cell_type": "code",
   "execution_count": 2,
   "metadata": {
    "collapsed": false,
    "deletable": true,
    "editable": true
   },
   "outputs": [],
   "source": [
    "G = Polyhedra(AA,3)"
   ]
  },
  {
   "cell_type": "code",
   "execution_count": 3,
   "metadata": {
    "collapsed": true,
    "deletable": true,
    "editable": true
   },
   "outputs": [],
   "source": [
    "square_from_vertices = Polyhedron(vertices = [[1,1,1], [1,1,-1],[1,-1,1],[1,-1,-1],[-1,1,1],[-1,1,-1],[-1,-1,1],[-1,-1,-1]])"
   ]
  },
  {
   "cell_type": "code",
   "execution_count": 6,
   "metadata": {
    "collapsed": false,
    "deletable": true,
    "editable": true
   },
   "outputs": [
    {
     "data": {
      "text/plain": [
       "['A',\n",
       " 'EQUATION',\n",
       " 'INEQUALITY',\n",
       " 'LINE',\n",
       " 'RAY',\n",
       " 'VERTEX',\n",
       " '_A',\n",
       " '__add__',\n",
       " '__call__',\n",
       " '__class__',\n",
       " '__cmp__',\n",
       " '__delattr__',\n",
       " '__dict__',\n",
       " '__doc__',\n",
       " '__format__',\n",
       " '__getattribute__',\n",
       " '__getitem__',\n",
       " '__hash__',\n",
       " '__init__',\n",
       " '__len__',\n",
       " '__module__',\n",
       " '__mul__',\n",
       " '__new__',\n",
       " '__radd__',\n",
       " '__reduce__',\n",
       " '__reduce_ex__',\n",
       " '__repr__',\n",
       " '__setattr__',\n",
       " '__sizeof__',\n",
       " '__str__',\n",
       " '__subclasshook__',\n",
       " '__weakref__',\n",
       " '_ascii_art_',\n",
       " '_axiom_',\n",
       " '_axiom_init_',\n",
       " '_b',\n",
       " '_base_ring',\n",
       " '_cache_key',\n",
       " '_fricas_',\n",
       " '_fricas_init_',\n",
       " '_gap_',\n",
       " '_gap_init_',\n",
       " '_giac_',\n",
       " '_giac_init_',\n",
       " '_gp_',\n",
       " '_gp_init_',\n",
       " '_index',\n",
       " '_interface_',\n",
       " '_interface_init_',\n",
       " '_interface_is_cached_',\n",
       " '_kash_',\n",
       " '_kash_init_',\n",
       " '_latex_',\n",
       " '_macaulay2_',\n",
       " '_macaulay2_init_',\n",
       " '_magma_init_',\n",
       " '_maple_',\n",
       " '_maple_init_',\n",
       " '_mathematica_',\n",
       " '_mathematica_init_',\n",
       " '_maxima_',\n",
       " '_maxima_init_',\n",
       " '_maxima_lib_',\n",
       " '_maxima_lib_init_',\n",
       " '_octave_',\n",
       " '_octave_init_',\n",
       " '_pari_',\n",
       " '_pari_init_',\n",
       " '_polyhedron',\n",
       " '_polyhedron_parent',\n",
       " '_r_init_',\n",
       " '_repr_',\n",
       " '_sage_',\n",
       " '_set_data',\n",
       " '_singular_',\n",
       " '_singular_init_',\n",
       " '_test_category',\n",
       " '_test_new',\n",
       " '_test_not_implemented_methods',\n",
       " '_test_pickling',\n",
       " '_tester',\n",
       " '_unicode_art_',\n",
       " '_vector',\n",
       " '_vector_',\n",
       " 'adjacent',\n",
       " 'b',\n",
       " 'category',\n",
       " 'contains',\n",
       " 'count',\n",
       " 'db',\n",
       " 'dump',\n",
       " 'dumps',\n",
       " 'eval',\n",
       " 'incident',\n",
       " 'index',\n",
       " 'interior_contains',\n",
       " 'is_H',\n",
       " 'is_equation',\n",
       " 'is_incident',\n",
       " 'is_inequality',\n",
       " 'neighbors',\n",
       " 'parent',\n",
       " 'polyhedron',\n",
       " 'rename',\n",
       " 'repr_pretty',\n",
       " 'reset_name',\n",
       " 'save',\n",
       " 'type',\n",
       " 'vector']"
      ]
     },
     "execution_count": 6,
     "metadata": {},
     "output_type": "execute_result"
    }
   ],
   "source": [
    "dir(square_from_vertices)\n",
    "dir(square_from_vertices.inequalities()[0])"
   ]
  },
  {
   "cell_type": "code",
   "execution_count": 12,
   "metadata": {
    "collapsed": false,
    "deletable": true,
    "editable": true
   },
   "outputs": [
    {
     "data": {
      "text/plain": [
       "(0, 0, -1)"
      ]
     },
     "execution_count": 12,
     "metadata": {},
     "output_type": "execute_result"
    }
   ],
   "source": [
    "# Get the normal vector for the 0th face\n",
    "square_from_vertices.inequalities()[0]._A"
   ]
  },
  {
   "cell_type": "code",
   "execution_count": 13,
   "metadata": {
    "collapsed": false,
    "deletable": true,
    "editable": true
   },
   "outputs": [
    {
     "name": "stdout",
     "output_type": "stream",
     "text": [
      "(1, 0, 0)\n",
      "(0, 1, 0)\n",
      "(0, 0, 1)\n",
      "(0, 0, -1)\n",
      "(0, -1, 0)\n",
      "(-1, 0, 0)\n"
     ]
    }
   ],
   "source": [
    "# Print every normal vector\n",
    "for f in square_from_vertices.faces(2):\n",
    "    print f.ambient_Hrepresentation()[0]._A"
   ]
  },
  {
   "cell_type": "code",
   "execution_count": 13,
   "metadata": {
    "collapsed": false,
    "deletable": true,
    "editable": true
   },
   "outputs": [
    {
     "data": {
      "text/html": [
       "\n",
       "<iframe srcdoc=\"\n",
       "<html>\n",
       "<head>\n",
       "  <style>\n",
       "    * {\n",
       "      margin: 0;\n",
       "      padding: 0;\n",
       "      overflow: hidden;\n",
       "    }\n",
       "    body, html {      \n",
       "      height: 100%;\n",
       "      width: 100%;\n",
       "    }\n",
       "  </style>\n",
       "  <script type=&quot;text/javascript&quot; src=&quot;/nbextensions/jsmol/JSmol.min.js&quot;></script>\n",
       "</head>\n",
       "<body>\n",
       "  <script type=&quot;text/javascript&quot;>\n",
       "    var script = [\n",
       "  'data &quot;model list&quot;',\n",
       "  '10',\n",
       "  'empty',\n",
       "  'Xx -3.0 -4.0 -3.0',\n",
       "  'Xx 0.0 -4.0 -3.0',\n",
       "  'Xx 3.0 -4.0 -3.0',\n",
       "  'Xx 4.0 -3.0 -3.0',\n",
       "  'Xx 4.0 0.0 -3.0',\n",
       "  'Xx 4.0 3.0 -3.0',\n",
       "  'Xx -4.0 -3.0 -3.0',\n",
       "  'Xx -4.0 -3.0 0.0',\n",
       "  'Xx -4.0 -3.0 3.0',\n",
       "  'Xx 5.5 5.5 5.5',\n",
       "  'end &quot;model list&quot;; show data',\n",
       "  'select *',\n",
       "  'wireframe off; spacefill off',\n",
       "  'set labelOffset 0 0',\n",
       "  'background [255,255,255]',\n",
       "  'spin OFF',\n",
       "  'moveto 0 -764 -346 -545 76.39',\n",
       "  'centerAt absolute {0 0 0}',\n",
       "  'zoom 100',\n",
       "  'frank OFF',\n",
       "  'set perspectivedepth ON',\n",
       "  'pmesh obj_1 inline &quot;24',\n",
       "  '-3 -3 -3',\n",
       "  '-3 -3 3',\n",
       "  '-3 3 -3',\n",
       "  '-3 3 3',\n",
       "  '3 -3 -3',\n",
       "  '3 -3 3',\n",
       "  '3 3 -3',\n",
       "  '3 3 3',\n",
       "  '-3 -3 -3',\n",
       "  '-3 -3 3',\n",
       "  '-3 3 -3',\n",
       "  '-3 3 3',\n",
       "  '3 -3 -3',\n",
       "  '3 -3 3',\n",
       "  '3 3 -3',\n",
       "  '3 3 3',\n",
       "  '-3 -3 -3',\n",
       "  '-3 -3 3',\n",
       "  '-3 3 -3',\n",
       "  '-3 3 3',\n",
       "  '3 -3 -3',\n",
       "  '3 -3 3',\n",
       "  '3 3 -3',\n",
       "  '3 3 3',\n",
       "  '6',\n",
       "  '5',\n",
       "  '7',\n",
       "  '3',\n",
       "  '1',\n",
       "  '5',\n",
       "  '7',\n",
       "  '5',\n",
       "  '6',\n",
       "  '2',\n",
       "  '11',\n",
       "  '15',\n",
       "  '6',\n",
       "  '5',\n",
       "  '23',\n",
       "  '13',\n",
       "  '4',\n",
       "  '14',\n",
       "  '23',\n",
       "  '5',\n",
       "  '10',\n",
       "  '0',\n",
       "  '9',\n",
       "  '19',\n",
       "  '10',\n",
       "  '5',\n",
       "  '12',\n",
       "  '8',\n",
       "  '18',\n",
       "  '22',\n",
       "  '12',\n",
       "  '5',\n",
       "  '21',\n",
       "  '17',\n",
       "  '16',\n",
       "  '20',\n",
       "  '21&quot;',\n",
       "  'color pmesh  [0,0,255]',\n",
       "  'draw line_2 diameter 1 curve {-3.0 -3.0 -3.0}  {-3.0 -3.0 3.0} ',\n",
       "  'color $line_2  [0,0,0]',\n",
       "  'draw line_3 diameter 1 curve {-3.0 -3.0 -3.0}  {-3.0 3.0 -3.0} ',\n",
       "  'color $line_3  [0,0,0]',\n",
       "  'draw line_4 diameter 1 curve {-3.0 -3.0 -3.0}  {3.0 -3.0 -3.0} ',\n",
       "  'color $line_4  [0,0,0]',\n",
       "  'draw line_5 diameter 1 curve {-3.0 -3.0 3.0}  {-3.0 3.0 3.0} ',\n",
       "  'color $line_5  [0,0,0]',\n",
       "  'draw line_6 diameter 1 curve {-3.0 -3.0 3.0}  {3.0 -3.0 3.0} ',\n",
       "  'color $line_6  [0,0,0]',\n",
       "  'draw line_7 diameter 1 curve {-3.0 3.0 -3.0}  {-3.0 3.0 3.0} ',\n",
       "  'color $line_7  [0,0,0]',\n",
       "  'draw line_8 diameter 1 curve {-3.0 3.0 -3.0}  {3.0 3.0 -3.0} ',\n",
       "  'color $line_8  [0,0,0]',\n",
       "  'draw line_9 diameter 1 curve {-3.0 3.0 3.0}  {3.0 3.0 3.0} ',\n",
       "  'color $line_9  [0,0,0]',\n",
       "  'draw line_10 diameter 1 curve {3.0 -3.0 -3.0}  {3.0 -3.0 3.0} ',\n",
       "  'color $line_10  [0,0,0]',\n",
       "  'draw line_11 diameter 1 curve {3.0 -3.0 -3.0}  {3.0 3.0 -3.0} ',\n",
       "  'color $line_11  [0,0,0]',\n",
       "  'draw line_12 diameter 1 curve {3.0 -3.0 3.0}  {3.0 3.0 3.0} ',\n",
       "  'color $line_12  [0,0,0]',\n",
       "  'draw line_13 diameter 1 curve {3.0 3.0 -3.0}  {3.0 3.0 3.0} ',\n",
       "  'color $line_13  [0,0,0]',\n",
       "  'draw line_14 diameter 1 curve {-3.0 -3.0 -3.0}  {-3.0 3.0 -3.0} ',\n",
       "  'color $line_14 translucent 0.5 [0,0,0]',\n",
       "  'draw line_15 diameter 1 curve {-3.0 3.0 -3.0}  {3.0 3.0 -3.0} ',\n",
       "  'color $line_15 translucent 0.5 [0,0,0]',\n",
       "  'draw line_16 diameter 1 curve {3.0 3.0 -3.0}  {3.0 -3.0 -3.0} ',\n",
       "  'color $line_16 translucent 0.5 [0,0,0]',\n",
       "  'draw line_17 diameter 1 curve {3.0 -3.0 -3.0}  {-3.0 -3.0 -3.0} ',\n",
       "  'color $line_17 translucent 0.5 [0,0,0]',\n",
       "  'draw line_18 diameter 1 curve {-3.0 -3.0 -3.0}  {-3.0 -3.0 3.0} ',\n",
       "  'color $line_18 translucent 0.5 [0,0,0]',\n",
       "  'draw line_19 diameter 1 curve {-3.0 -3.0 3.0}  {-3.0 3.0 3.0} ',\n",
       "  'color $line_19 translucent 0.5 [0,0,0]',\n",
       "  'draw line_20 diameter 1 curve {-3.0 3.0 3.0}  {3.0 3.0 3.0} ',\n",
       "  'color $line_20 translucent 0.5 [0,0,0]',\n",
       "  'draw line_21 diameter 1 curve {3.0 3.0 3.0}  {3.0 -3.0 3.0} ',\n",
       "  'color $line_21 translucent 0.5 [0,0,0]',\n",
       "  'draw line_22 diameter 1 curve {3.0 -3.0 3.0}  {-3.0 -3.0 3.0} ',\n",
       "  'color $line_22 translucent 0.5 [0,0,0]',\n",
       "  'draw line_23 diameter 1 curve {-3.0 -3.0 3.0} ',\n",
       "  'color $line_23 translucent 0.5 [0,0,0]',\n",
       "  'draw line_24 diameter 1 curve {-3.0 3.0 -3.0}  {-3.0 3.0 3.0} ',\n",
       "  'color $line_24 translucent 0.5 [0,0,0]',\n",
       "  'draw line_25 diameter 1 curve {3.0 -3.0 -3.0}  {3.0 -3.0 3.0} ',\n",
       "  'color $line_25 translucent 0.5 [0,0,0]',\n",
       "  'draw line_26 diameter 1 curve {3.0 3.0 -3.0}  {3.0 3.0 3.0} ',\n",
       "  'color $line_26 translucent 0.5 [0,0,0]',\n",
       "  'select atomno = 1',\n",
       "  'color atom  [76,76,76]',\n",
       "  'label &quot;-1.0&quot;',\n",
       "  'select atomno = 2',\n",
       "  'color atom  [76,76,76]',\n",
       "  'label &quot;0.0&quot;',\n",
       "  'select atomno = 3',\n",
       "  'color atom  [76,76,76]',\n",
       "  'label &quot;1.0&quot;',\n",
       "  'select atomno = 4',\n",
       "  'color atom  [76,76,76]',\n",
       "  'label &quot;-1.0&quot;',\n",
       "  'select atomno = 5',\n",
       "  'color atom  [76,76,76]',\n",
       "  'label &quot;0.0&quot;',\n",
       "  'select atomno = 6',\n",
       "  'color atom  [76,76,76]',\n",
       "  'label &quot;1.0&quot;',\n",
       "  'select atomno = 7',\n",
       "  'color atom  [76,76,76]',\n",
       "  'label &quot;-1.0&quot;',\n",
       "  'select atomno = 8',\n",
       "  'color atom  [76,76,76]',\n",
       "  'label &quot;0.0&quot;',\n",
       "  'select atomno = 9',\n",
       "  'color atom  [76,76,76]',\n",
       "  'label &quot;1.0&quot;',\n",
       "  'isosurface fullylit; pmesh o* fullylit; set antialiasdisplay on;',\n",
       "].join('\\n');;\n",
       "    var Info = {\n",
       "      width: '100%',\n",
       "      height: '500',\n",
       "      debug: false,\n",
       "      disableInitialConsole: true,   // very slow when used with inline mesh\n",
       "      color: '#3131ff',\n",
       "      addSelectionOptions: false,\n",
       "      use: 'HTML5',\n",
       "      j2sPath: '/nbextensions/jsmol/j2s',\n",
       "      script: script,\n",
       "    };\n",
       "    var jmolApplet0 = Jmol.getApplet('jmolApplet0', Info);\n",
       "  </script>\n",
       "</body>\n",
       "</html>\n",
       "\" \n",
       "        width=\"100%\"\n",
       "        height=\"500\"\n",
       "        style=\"border: 0;\">\n",
       "</iframe>\n"
      ],
      "text/plain": [
       "Graphics3d Object"
      ]
     },
     "execution_count": 13,
     "metadata": {},
     "output_type": "execute_result"
    }
   ],
   "source": [
    "square_from_vertices.render_solid(rgbcolor='blue',alpha=.02)+square_from_vertices.render_wireframe(rgbcolor='black',alpha=.2)"
   ]
  },
  {
   "cell_type": "code",
   "execution_count": 14,
   "metadata": {
    "collapsed": false,
    "deletable": true,
    "editable": true
   },
   "outputs": [
    {
     "data": {
      "text/plain": [
       "Cached version of <function facet_adjacency_matrix at 0x7fd15d2da0c8>"
      ]
     },
     "execution_count": 14,
     "metadata": {},
     "output_type": "execute_result"
    }
   ],
   "source": [
    "square_from_vertices.facet_adjacency_matrix"
   ]
  },
  {
   "cell_type": "code",
   "execution_count": 15,
   "metadata": {
    "collapsed": true,
    "deletable": true,
    "editable": true
   },
   "outputs": [],
   "source": [
    "p = polytopes.icosahedron(exact=false)\n",
    "from sage.geometry.polyhedron.plot import Projection"
   ]
  },
  {
   "cell_type": "code",
   "execution_count": 17,
   "metadata": {
    "collapsed": false,
    "deletable": true,
    "editable": true
   },
   "outputs": [],
   "source": [
    "Projection(p)\n",
    "def pr_12(x): return [x[1],x[2]]"
   ]
  },
  {
   "cell_type": "code",
   "execution_count": 25,
   "metadata": {
    "collapsed": false,
    "deletable": true,
    "editable": true
   },
   "outputs": [
    {
     "data": {
      "text/plain": [
       "The projection of a polyhedron into 2 dimensions"
      ]
     },
     "execution_count": 25,
     "metadata": {},
     "output_type": "execute_result"
    }
   ],
   "source": [
    "Projection(p).schlegel([1,1,0])"
   ]
  },
  {
   "cell_type": "code",
   "execution_count": 26,
   "metadata": {
    "collapsed": false,
    "deletable": true,
    "editable": true
   },
   "outputs": [
    {
     "data": {
      "image/png": "[encoded data removed]",
      "text/plain": [
       "Graphics object consisting of 51 graphics primitives"
      ]
     },
     "execution_count": 26,
     "metadata": {},
     "output_type": "execute_result"
    }
   ],
   "source": [
    "_.plot()"
   ]
  },
  {
   "cell_type": "markdown",
   "metadata": {
    "deletable": true,
    "editable": true
   },
   "source": [
    "# Graph Testing"
   ]
  },
  {
   "cell_type": "code",
   "execution_count": 1,
   "metadata": {
    "collapsed": true,
    "deletable": true,
    "editable": true
   },
   "outputs": [],
   "source": [
    "g = {0:[1,2],1:[0,1],2:[1]}\n",
    "G = Graph(g)"
   ]
  },
  {
   "cell_type": "code",
   "execution_count": 2,
   "metadata": {
    "collapsed": false,
    "deletable": true,
    "editable": true
   },
   "outputs": [
    {
     "data": {
      "image/png": "[encoded data removed]",
      "text/plain": [
       "Graphics object consisting of 8 graphics primitives"
      ]
     },
     "metadata": {},
     "output_type": "display_data"
    }
   ],
   "source": [
    "G.plot().show()"
   ]
  },
  {
   "cell_type": "code",
   "execution_count": 3,
   "metadata": {
    "collapsed": true,
    "deletable": true,
    "editable": true
   },
   "outputs": [],
   "source": [
    "g2 = {4:[1,2],1:[1,4],2:[1]}\n",
    "G2 = Graph(g2)"
   ]
  },
  {
   "cell_type": "code",
   "execution_count": 4,
   "metadata": {
    "collapsed": false,
    "deletable": true,
    "editable": true
   },
   "outputs": [
    {
     "data": {
      "text/plain": [
       "False"
      ]
     },
     "execution_count": 4,
     "metadata": {},
     "output_type": "execute_result"
    }
   ],
   "source": [
    "G2.__eq__(G)"
   ]
  },
  {
   "cell_type": "code",
   "execution_count": 5,
   "metadata": {
    "collapsed": false,
    "deletable": true,
    "editable": true
   },
   "outputs": [
    {
     "data": {
      "image/png": "[encoded data removed]",
      "text/plain": [
       "Graphics object consisting of 8 graphics primitives"
      ]
     },
     "metadata": {},
     "output_type": "display_data"
    }
   ],
   "source": [
    "G2.plot().show()"
   ]
  },
  {
   "cell_type": "code",
   "execution_count": 6,
   "metadata": {
    "collapsed": false,
    "deletable": true,
    "editable": true
   },
   "outputs": [
    {
     "data": {
      "text/plain": [
       "{'_backend': <type 'sage.graphs.base.sparse_graph.SparseGraphBackend'>,\n",
       " '_latex_opts': None,\n",
       " '_pos': None,\n",
       " '_weighted': False}"
      ]
     },
     "execution_count": 6,
     "metadata": {},
     "output_type": "execute_result"
    }
   ],
   "source": [
    "vars(G2)"
   ]
  },
  {
   "cell_type": "code",
   "execution_count": 7,
   "metadata": {
    "collapsed": false,
    "deletable": true,
    "editable": true
   },
   "outputs": [
    {
     "data": {
      "text/plain": [
       "['__add__',\n",
       " '__class__',\n",
       " '__contains__',\n",
       " '__copy__',\n",
       " '__delattr__',\n",
       " '__dict__',\n",
       " '__doc__',\n",
       " '__eq__',\n",
       " '__format__',\n",
       " '__getattribute__',\n",
       " '__getitem__',\n",
       " '__hash__',\n",
       " '__init__',\n",
       " '__iter__',\n",
       " '__len__',\n",
       " '__module__',\n",
       " '__mul__',\n",
       " '__ne__',\n",
       " '__new__',\n",
       " '__reduce__',\n",
       " '__reduce_ex__',\n",
       " '__repr__',\n",
       " '__rmul__',\n",
       " '__setattr__',\n",
       " '__setstate__',\n",
       " '__sizeof__',\n",
       " '__str__',\n",
       " '__subclasshook__',\n",
       " '__weakref__',\n",
       " '_ascii_art_',\n",
       " '_axiom_',\n",
       " '_axiom_init_',\n",
       " '_backend',\n",
       " '_bit_vector',\n",
       " '_build_flow_graph',\n",
       " '_cache_key',\n",
       " '_check_embedding_validity',\n",
       " '_check_pos_validity',\n",
       " '_check_weight_function',\n",
       " '_color_by_label',\n",
       " '_directed',\n",
       " '_ford_fulkerson',\n",
       " '_fricas_',\n",
       " '_fricas_init_',\n",
       " '_gap_',\n",
       " '_gap_init_',\n",
       " '_giac_',\n",
       " '_giac_init_',\n",
       " '_gomory_hu_tree',\n",
       " '_gp_',\n",
       " '_gp_init_',\n",
       " '_interface_',\n",
       " '_interface_init_',\n",
       " '_interface_is_cached_',\n",
       " '_kash_',\n",
       " '_kash_init_',\n",
       " '_keys_for_vertices',\n",
       " '_latex_',\n",
       " '_latex_opts',\n",
       " '_layout_bounding_box',\n",
       " '_macaulay2_',\n",
       " '_macaulay2_init_',\n",
       " '_magma_init_',\n",
       " '_maple_',\n",
       " '_maple_init_',\n",
       " '_mathematica_',\n",
       " '_mathematica_init_',\n",
       " '_matrix_',\n",
       " '_maxima_',\n",
       " '_maxima_init_',\n",
       " '_maxima_lib_',\n",
       " '_maxima_lib_init_',\n",
       " '_octave_',\n",
       " '_octave_init_',\n",
       " '_pari_',\n",
       " '_pari_init_',\n",
       " '_path_length',\n",
       " '_pos',\n",
       " '_r_init_',\n",
       " '_repr_',\n",
       " '_rich_repr_',\n",
       " '_sage_',\n",
       " '_scream_if_not_simple',\n",
       " '_singular_',\n",
       " '_singular_init_',\n",
       " '_subgraph_by_adding',\n",
       " '_subgraph_by_deleting',\n",
       " '_test_category',\n",
       " '_test_new',\n",
       " '_test_not_implemented_methods',\n",
       " '_test_pickling',\n",
       " '_tester',\n",
       " '_unicode_art_',\n",
       " '_weighted',\n",
       " 'add_cycle',\n",
       " 'add_edge',\n",
       " 'add_edges',\n",
       " 'add_path',\n",
       " 'add_vertex',\n",
       " 'add_vertices',\n",
       " 'adjacency_matrix',\n",
       " 'all_paths',\n",
       " 'allow_loops',\n",
       " 'allow_multiple_edges',\n",
       " 'allows_loops',\n",
       " 'allows_multiple_edges',\n",
       " 'am',\n",
       " 'antisymmetric',\n",
       " 'apex_vertices',\n",
       " 'automorphism_group',\n",
       " 'average_degree',\n",
       " 'average_distance',\n",
       " 'bipartite_color',\n",
       " 'bipartite_sets',\n",
       " 'blocks_and_cut_vertices',\n",
       " 'blocks_and_cuts_tree',\n",
       " 'bounded_outdegree_orientation',\n",
       " 'breadth_first_search',\n",
       " 'bridges',\n",
       " 'canonical_label',\n",
       " 'cartesian_product',\n",
       " 'categorical_product',\n",
       " 'category',\n",
       " 'center',\n",
       " 'centrality_betweenness',\n",
       " 'centrality_closeness',\n",
       " 'centrality_degree',\n",
       " 'characteristic_polynomial',\n",
       " 'charpoly',\n",
       " 'chromatic_number',\n",
       " 'chromatic_polynomial',\n",
       " 'chromatic_quasisymmetric_function',\n",
       " 'chromatic_symmetric_function',\n",
       " 'clear',\n",
       " 'clique_complex',\n",
       " 'clique_maximum',\n",
       " 'clique_number',\n",
       " 'clique_polynomial',\n",
       " 'cliques_containing_vertex',\n",
       " 'cliques_get_clique_bipartite',\n",
       " 'cliques_get_max_clique_graph',\n",
       " 'cliques_maximal',\n",
       " 'cliques_maximum',\n",
       " 'cliques_number_of',\n",
       " 'cliques_vertex_clique_number',\n",
       " 'cluster_transitivity',\n",
       " 'cluster_triangles',\n",
       " 'clustering_average',\n",
       " 'clustering_coeff',\n",
       " 'coarsest_equitable_refinement',\n",
       " 'coloring',\n",
       " 'complement',\n",
       " 'connected_component_containing_vertex',\n",
       " 'connected_components',\n",
       " 'connected_components_number',\n",
       " 'connected_components_sizes',\n",
       " 'connected_components_subgraphs',\n",
       " 'convexity_properties',\n",
       " 'copy',\n",
       " 'cores',\n",
       " 'cycle_basis',\n",
       " 'db',\n",
       " 'degree',\n",
       " 'degree_constrained_subgraph',\n",
       " 'degree_histogram',\n",
       " 'degree_iterator',\n",
       " 'degree_sequence',\n",
       " 'degree_to_cell',\n",
       " 'delete_edge',\n",
       " 'delete_edges',\n",
       " 'delete_multiedge',\n",
       " 'delete_vertex',\n",
       " 'delete_vertices',\n",
       " 'density',\n",
       " 'depth_first_search',\n",
       " 'diameter',\n",
       " 'disjoint_routed_paths',\n",
       " 'disjoint_union',\n",
       " 'disjunctive_product',\n",
       " 'distance',\n",
       " 'distance_all_pairs',\n",
       " 'distance_graph',\n",
       " 'distance_matrix',\n",
       " 'distances_distribution',\n",
       " 'dominating_set',\n",
       " 'dominator_tree',\n",
       " 'dump',\n",
       " 'dumps',\n",
       " 'eccentricity',\n",
       " 'edge_boundary',\n",
       " 'edge_connectivity',\n",
       " 'edge_cut',\n",
       " 'edge_disjoint_paths',\n",
       " 'edge_disjoint_spanning_trees',\n",
       " 'edge_iterator',\n",
       " 'edge_label',\n",
       " 'edge_labels',\n",
       " 'edges',\n",
       " 'edges_incident',\n",
       " 'eigenspaces',\n",
       " 'eigenvectors',\n",
       " 'eulerian_circuit',\n",
       " 'eulerian_orientation',\n",
       " 'export_to_file',\n",
       " 'faces',\n",
       " 'feedback_vertex_set',\n",
       " 'flow',\n",
       " 'fractional_chromatic_index',\n",
       " 'genus',\n",
       " 'get_embedding',\n",
       " 'get_pos',\n",
       " 'get_vertex',\n",
       " 'get_vertices',\n",
       " 'girth',\n",
       " 'gomory_hu_tree',\n",
       " 'graph6_string',\n",
       " 'graphics_array_defaults',\n",
       " 'graphplot',\n",
       " 'graphviz_string',\n",
       " 'graphviz_to_file_named',\n",
       " 'hamiltonian_cycle',\n",
       " 'hamiltonian_path',\n",
       " 'has_edge',\n",
       " 'has_homomorphism_to',\n",
       " 'has_loops',\n",
       " 'has_multiple_edges',\n",
       " 'has_vertex',\n",
       " 'igraph_graph',\n",
       " 'ihara_zeta_function_inverse',\n",
       " 'incidence_matrix',\n",
       " 'independent_set',\n",
       " 'independent_set_of_representatives',\n",
       " 'is_apex',\n",
       " 'is_arc_transitive',\n",
       " 'is_asteroidal_triple_free',\n",
       " 'is_biconnected',\n",
       " 'is_bipartite',\n",
       " 'is_cartesian_product',\n",
       " 'is_cayley',\n",
       " 'is_chordal',\n",
       " 'is_circulant',\n",
       " 'is_circular_planar',\n",
       " 'is_clique',\n",
       " 'is_connected',\n",
       " 'is_cut_edge',\n",
       " 'is_cut_vertex',\n",
       " 'is_cycle',\n",
       " 'is_directed',\n",
       " 'is_distance_regular',\n",
       " 'is_drawn_free_of_edge_crossings',\n",
       " 'is_edge_transitive',\n",
       " 'is_equitable',\n",
       " 'is_eulerian',\n",
       " 'is_even_hole_free',\n",
       " 'is_forest',\n",
       " 'is_gallai_tree',\n",
       " 'is_half_transitive',\n",
       " 'is_hamiltonian',\n",
       " 'is_immutable',\n",
       " 'is_independent_set',\n",
       " 'is_interval',\n",
       " 'is_isomorphic',\n",
       " 'is_line_graph',\n",
       " 'is_long_antihole_free',\n",
       " 'is_long_hole_free',\n",
       " 'is_odd_hole_free',\n",
       " 'is_overfull',\n",
       " 'is_partial_cube',\n",
       " 'is_perfect',\n",
       " 'is_planar',\n",
       " 'is_prime',\n",
       " 'is_regular',\n",
       " 'is_semi_symmetric',\n",
       " 'is_split',\n",
       " 'is_strongly_regular',\n",
       " 'is_subgraph',\n",
       " 'is_transitively_reduced',\n",
       " 'is_tree',\n",
       " 'is_triangle_free',\n",
       " 'is_vertex_transitive',\n",
       " 'is_weakly_chordal',\n",
       " 'join',\n",
       " 'kirchhoff_matrix',\n",
       " 'kirchhoff_symanzik_polynomial',\n",
       " 'kronecker_product',\n",
       " 'laplacian_matrix',\n",
       " 'latex_options',\n",
       " 'layout',\n",
       " 'layout_circular',\n",
       " 'layout_default',\n",
       " 'layout_extend_randomly',\n",
       " 'layout_graphviz',\n",
       " 'layout_planar',\n",
       " 'layout_ranked',\n",
       " 'layout_spring',\n",
       " 'layout_tree',\n",
       " 'lex_BFS',\n",
       " 'lexicographic_product',\n",
       " 'line_graph',\n",
       " 'longest_path',\n",
       " 'loop_edges',\n",
       " 'loop_vertices',\n",
       " 'loops',\n",
       " 'lovasz_theta',\n",
       " 'magnitude_function',\n",
       " 'matching',\n",
       " 'matching_polynomial',\n",
       " 'max_cut',\n",
       " 'maximum_average_degree',\n",
       " 'merge_vertices',\n",
       " 'min_spanning_tree',\n",
       " 'minimum_outdegree_orientation',\n",
       " 'minor',\n",
       " 'modular_decomposition',\n",
       " 'multicommodity_flow',\n",
       " 'multiple_edges',\n",
       " 'multiway_cut',\n",
       " 'name',\n",
       " 'neighbor_iterator',\n",
       " 'neighbors',\n",
       " 'networkx_graph',\n",
       " 'num_edges',\n",
       " 'num_faces',\n",
       " 'num_verts',\n",
       " 'number_of_loops',\n",
       " 'odd_girth',\n",
       " 'order',\n",
       " 'orientations',\n",
       " 'parent',\n",
       " 'pathwidth',\n",
       " 'perfect_matchings',\n",
       " 'periphery',\n",
       " 'plot',\n",
       " 'plot3d',\n",
       " 'radius',\n",
       " 'random_edge',\n",
       " 'random_edge_iterator',\n",
       " 'random_spanning_tree',\n",
       " 'random_subgraph',\n",
       " 'random_vertex',\n",
       " 'random_vertex_iterator',\n",
       " 'rank_decomposition',\n",
       " 'relabel',\n",
       " 'remove_loops',\n",
       " 'remove_multiple_edges',\n",
       " 'rename',\n",
       " 'reset_name',\n",
       " 'save',\n",
       " 'seidel_adjacency_matrix',\n",
       " 'seidel_switching',\n",
       " 'set_edge_label',\n",
       " 'set_embedding',\n",
       " 'set_latex_options',\n",
       " 'set_planar_positions',\n",
       " 'set_pos',\n",
       " 'set_vertex',\n",
       " 'set_vertices',\n",
       " 'shortest_path',\n",
       " 'shortest_path_all_pairs',\n",
       " 'shortest_path_length',\n",
       " 'shortest_path_lengths',\n",
       " 'shortest_paths',\n",
       " 'show',\n",
       " 'show3d',\n",
       " 'size',\n",
       " 'spanning_trees',\n",
       " 'spanning_trees_count',\n",
       " 'sparse6_string',\n",
       " 'spectral_radius',\n",
       " 'spectrum',\n",
       " 'steiner_tree',\n",
       " 'strong_orientation',\n",
       " 'strong_orientations_iterator',\n",
       " 'strong_product',\n",
       " 'subdivide_edge',\n",
       " 'subdivide_edges',\n",
       " 'subgraph',\n",
       " 'subgraph_search',\n",
       " 'subgraph_search_count',\n",
       " 'subgraph_search_iterator',\n",
       " 'szeged_index',\n",
       " 'tensor_product',\n",
       " 'to_dictionary',\n",
       " 'to_directed',\n",
       " 'to_partition',\n",
       " 'to_simple',\n",
       " 'to_undirected',\n",
       " 'topological_minor',\n",
       " 'transitive_closure',\n",
       " 'transitive_reduction',\n",
       " 'traveling_salesman_problem',\n",
       " 'treewidth',\n",
       " 'triangles_count',\n",
       " 'tutte_polynomial',\n",
       " 'two_factor_petersen',\n",
       " 'twograph',\n",
       " 'union',\n",
       " 'vertex_boundary',\n",
       " 'vertex_connectivity',\n",
       " 'vertex_cover',\n",
       " 'vertex_cut',\n",
       " 'vertex_disjoint_paths',\n",
       " 'vertex_iterator',\n",
       " 'vertices',\n",
       " 'weighted',\n",
       " 'weighted_adjacency_matrix',\n",
       " 'wiener_index',\n",
       " 'write_to_eps']"
      ]
     },
     "execution_count": 7,
     "metadata": {},
     "output_type": "execute_result"
    }
   ],
   "source": [
    "dir(G2)"
   ]
  },
  {
   "cell_type": "code",
   "execution_count": 10,
   "metadata": {
    "collapsed": true,
    "deletable": true,
    "editable": true
   },
   "outputs": [],
   "source": [
    "G2.canonical_label?"
   ]
  },
  {
   "cell_type": "code",
   "execution_count": 11,
   "metadata": {
    "collapsed": true,
    "deletable": true,
    "editable": true
   },
   "outputs": [],
   "source": [
    "immG2 = G2.copy(immutable=True)"
   ]
  },
  {
   "cell_type": "code",
   "execution_count": 12,
   "metadata": {
    "collapsed": false,
    "deletable": true,
    "editable": true
   },
   "outputs": [
    {
     "data": {
      "text/plain": [
       "True"
      ]
     },
     "execution_count": 12,
     "metadata": {},
     "output_type": "execute_result"
    }
   ],
   "source": [
    "immG2.is_immutable()"
   ]
  },
  {
   "cell_type": "code",
   "execution_count": 13,
   "metadata": {
    "collapsed": true,
    "deletable": true,
    "editable": true
   },
   "outputs": [],
   "source": [
    "d = {}"
   ]
  },
  {
   "cell_type": "code",
   "execution_count": 14,
   "metadata": {
    "collapsed": true,
    "deletable": true,
    "editable": true
   },
   "outputs": [],
   "source": [
    "d[immG2] = []"
   ]
  },
  {
   "cell_type": "code",
   "execution_count": 21,
   "metadata": {
    "collapsed": false,
    "deletable": true,
    "editable": true
   },
   "outputs": [
    {
     "data": {
      "text/plain": [
       "{Looped graph on 3 vertices: [1, 2]}"
      ]
     },
     "execution_count": 21,
     "metadata": {},
     "output_type": "execute_result"
    }
   ],
   "source": [
    "d[immG2].append(2); d"
   ]
  },
  {
   "cell_type": "code",
   "execution_count": null,
   "metadata": {
    "collapsed": true,
    "deletable": true,
    "editable": true
   },
   "outputs": [],
   "source": []
  }
 ],
 "metadata": {
  "kernelspec": {
   "display_name": "SageMath 7.6",
   "language": "",
   "name": "sagemath"
  },
  "language_info": {
   "codemirror_mode": {
    "name": "ipython",
    "version": 2
   },
   "file_extension": ".py",
   "mimetype": "text/x-python",
   "name": "python",
   "nbconvert_exporter": "python",
   "pygments_lexer": "ipython2",
   "version": "2.7.13"
  }
 },
 "nbformat": 4,
 "nbformat_minor": 2
}
